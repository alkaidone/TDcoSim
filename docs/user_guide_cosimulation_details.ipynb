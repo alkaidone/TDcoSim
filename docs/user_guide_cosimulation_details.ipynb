{
 "cells": [
  {
   "cell_type": "markdown",
   "metadata": {},
   "source": [
    "# What is T+D co-simulation?\n",
    "\n",
    "---\n",
    "This section provides a brief overview of T+D co-simulation with PSSE and OpenDSS as implemented in TDcoSim. Further details and theory can be found in [A combined transmission and distribution system co-simulation framework for assessing the impact of Volt/VAR control on transmission system](https://ieeexplore.ieee.org/document/8274633) and [Load Model Parameter Estimation by Transmission-Distribution Co-Simulation.](https://ieeexplore.ieee.org/document/8442939)\n",
    "\n",
    "## Assumptions in current software version\n",
    "\n",
    "1. It is assumed that all the distribution feeders connected to the transmission system load bus have the same characteristics. Hence only one distribution feeder is simulated in an OpenDSS instance. The power output from the single feeder is then multiplied with a scaling factor (K) so that we can match the rated load at the transmission bus and emulate the effect that K feeders connected to the bus.\n",
    "2. No sub-station or transormer is modelled to interface the T bus with the distribution feeder.\n",
    "\n",
    "## T&D interface\n",
    "The transmission system simulator (TSS) and distribution system simulator (DSS) are seperate programs with their own solution methods. TDcoSim is responsible for exchanging data and synchronizng their runs.\n",
    "\n",
    "### Data exchange\n",
    "The TSS, PSSE uses positive sequence quantities while the DSS, OpenDSS uses phasor quantities. Hence it is necessary to convert one positive sequence to equivalent phasor quantity and vice-versa. After PSSE completes a solution, it outputs the sequence voltages at the T&D interface. Then (1) is applied to convert the sequence voltages at the boundary bus to phase voltages. Using the phase voltages at the boundary bus, the DSS completes a solution and outputs the phase current injection at the boundary bus, which are expressed in (2).\n"
   ]
  },
  {
   "cell_type": "markdown",
   "metadata": {},
   "source": [
    "$$\n",
    "\\begin{equation}\n",
    "\\left[\\begin{array} {r} \\bar{V}_{DS,a}\\\\\\bar{V}_{DS,b}\\\\\\bar{V}_{DS,c} \\end{array}\\right]=\n",
    "\\left[\\begin{array} {r} 1\\\\1\\angle-120\\\\1\\angle120 \\end{array}\\right].\\bar{V}_{TS,+}\\tag{1}\n",
    "\\end{equation}\n",
    "$$"
   ]
  },
  {
   "cell_type": "markdown",
   "metadata": {},
   "source": [
    "$$\n",
    "\\begin{equation}\n",
    "I_{DS}=\n",
    "\\left[\\begin{array} {r} \\bar{I}_{DS,a}\\\\\\bar{I}_{DS,b}\\\\\\bar{I}_{DS,c} \\end{array}\\right]\\tag{2}\n",
    "\\end{equation}\n",
    "$$"
   ]
  },
  {
   "cell_type": "markdown",
   "metadata": {},
   "source": [
    "The phase current injection at the boundary bus is converted to sequence quantities using (3). The current injection at the boundary bus is then used to obtain complex power injection at the boundary bus using (4).\n",
    "\n",
    "$$\n",
    "\\begin{equation}\n",
    "\\left[\\begin{array} {r} \\bar{I}_{DS,0}\\\\\\bar{I}_{DS,+}\\\\\\bar{I}_{DS,-} \\end{array}\\right]=\n",
    "\\frac{1}{3}\\left[\\begin{array} {rrr} 1&&1&&1\\\\1&&a&&a^2\\\\1&&a^2&&a \\end{array}\\right]\\left[\\begin{array} {r} \\bar{I}_{DS,a}\\\\\\bar{I}_{DS,b}\\\\\\bar{I}_{DS,c} \\end{array}\\right]\\tag{3}\n",
    "\\end{equation}\n",
    "$$"
   ]
  },
  {
   "cell_type": "markdown",
   "metadata": {},
   "source": [
    "$$\n",
    "\\begin{equation}\n",
    "S_{TS,+}=3.\\bar{V}_{TS,+}.\\bar{I}^*_{TS,+}\\tag{4}\n",
    "\\end{equation}\n",
    "$$"
   ]
  },
  {
   "cell_type": "markdown",
   "metadata": {},
   "source": [
    "The obtained value of $S_{TS,+}$ is used as the total power requirement for the said load bus at the transmission system. It is worth mentioning that the equivalence load that is replaced with the distribution system simulator is modeled as a constant power load with respect to the transmission system simulator . The data exchange across the T&D interface is illustrated in Fig. 1."
   ]
  },
  {
   "cell_type": "markdown",
   "metadata": {},
   "source": [
    "![loosely coupled protocol](images/T_D_data_interface.png)\n",
    "<center>***Fig.1.*** Data exchange across T+D interface.</center> "
   ]
  },
  {
   "cell_type": "markdown",
   "metadata": {},
   "source": [
    "### Synchronization\n",
    "\n",
    "Both static and dynamic co-simulation starts with an initialization for both PSSE and OpenDSS software. The T&D interface contains sockets that enable simulators to communicate and exchange data. Specifically, the TSS and the DSS are synchronized through two protocols, namely, loosely coupled and tightly coupled protocols. The loosely coupled protocol is illustrated in Fig. 2."
   ]
  },
  {
   "cell_type": "markdown",
   "metadata": {},
   "source": [
    "![loosely coupled protocol](images/loosely_coupled_protocol.png)\n",
    "<center>***Fig.2.*** Loosely couple protocol</center> "
   ]
  },
  {
   "cell_type": "markdown",
   "metadata": {},
   "source": [
    "## Steady-state T&D Co-simulation Process\n",
    "The data exchange protocol for steady-state co-simulation is loosely coupled. The initialization steps are:\n",
    "\n",
    "1. Input case files (both PSSE and OpenDSS).\n",
    "2. Run power flow in PSSE.\n",
    "3. Get voltage (p.u.) at load bus from PSSE.\n",
    "4. Set OpenDSS VSource voltage to be equal to the voltage from load bus.\n",
    "5. Run power flow in OpenDSS, get P and Q requirement for DNetworks.\n",
    "6. Scale P & Q using scaling factor K, and set as input to T bus.\n",
    "\n",
    "The scaling factor K (see [assumptions](#assumptions)) is calculated by dividing the total load at a transmission system load bus and the load of one distribution feeder.\n",
    "\n",
    "## Dynamic T&D Co-simulation Process\n",
    "The data exchange protocol for steady-state co-simulation is loosely coupled. The initialization steps are:\n",
    "\n",
    "1. Input case files (both PSSE and OpenDSS).\n",
    "2. Run power flow in PSSE.\n",
    "3. Get voltage (p.u.) at load bus from PSSE.\n",
    "4. Set OpenDSS VSource voltage to be equal to the voltage from load bus.\n",
    "5. Run power flow in OpenDSS, get P and Q requirement for DNetworks.\n",
    "6. Compute difference of P & Q between TNetworkBus and DNetwork.\n",
    "7. Calculate compensating shunt value using $P_{shunt}+j*Q_{shunt}=V^2_{pu}*(YP_{shunt}-YQ_{shunt})$.\n",
    "8. Add $YP_{shunt}$ and $YQ_{shunt}$ as fixed compensating shunt in PSSE.\n",
    "9. Repeat steps 2 to 8 until the user specifed simulation end time is reached.\n",
    "\n",
    "A time step of half a cycle is utilized in the dynamic co-simulation process. "
   ]
  },
  {
   "cell_type": "markdown",
   "metadata": {},
   "source": [
    "[Continue to Understanding the config file](user_guide_understanding_config.md) "
   ]
  }
 ],
 "metadata": {
  "kernelspec": {
   "display_name": "Python 3",
   "language": "python",
   "name": "python3"
  },
  "language_info": {
   "codemirror_mode": {
    "name": "ipython",
    "version": 3
   },
   "file_extension": ".py",
   "mimetype": "text/x-python",
   "name": "python",
   "nbconvert_exporter": "python",
   "pygments_lexer": "ipython3",
   "version": "3.6.3"
  }
 },
 "nbformat": 4,
 "nbformat_minor": 2
}
